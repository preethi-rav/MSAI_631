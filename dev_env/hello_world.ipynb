{
 "cells": [
  {
   "cell_type": "markdown",
   "id": "b476ec65",
   "metadata": {},
   "source": [
    "# Flask Hello World App in Jupyter Notebook\n",
    "This notebook demonstrates how to create a simple Flask web application using Python."
   ]
  },
  {
   "cell_type": "markdown",
   "id": "b1bb05ed",
   "metadata": {},
   "source": [
    "## Step 1: Import Flask\n",
    "We begin by importing the necessary Flask module."
   ]
  },
  {
   "cell_type": "code",
   "execution_count": null,
   "id": "f4e5c8e8",
   "metadata": {},
   "outputs": [],
   "source": [
    "from flask import Flask, render_template"
   ]
  },
  {
   "cell_type": "markdown",
   "id": "dd42b9fd",
   "metadata": {},
   "source": [
    "## Step 2: Create a Flask App Instance\n",
    "We create an instance of the Flask class."
   ]
  },
  {
   "cell_type": "code",
   "execution_count": null,
   "id": "88a4ae7a",
   "metadata": {},
   "outputs": [],
   "source": [
    "app = Flask(__name__)"
   ]
  },
  {
   "cell_type": "markdown",
   "id": "fd43bcf6",
   "metadata": {},
   "source": [
    "## Step 3: Define a Route\n",
    "We define a route for the root URL (`/`) and return a simple HTML message."
   ]
  },
  {
   "cell_type": "code",
   "execution_count": null,
   "id": "7ea2ee48",
   "metadata": {},
   "outputs": [],
   "source": [
    "@app.route('/')\n",
    "def hello_world():\n",
    "    return '<h1>Hello, World from Flask!</h1>'"
   ]
  },
  {
   "cell_type": "markdown",
   "id": "00f5a453",
   "metadata": {},
   "source": [
    "## Step 4: Run the Flask App\n",
    "We run the app in debug mode. Note: This should be run in a script or terminal, not directly in a notebook."
   ]
  },
  {
   "cell_type": "code",
   "execution_count": null,
   "id": "fee5b304",
   "metadata": {},
   "outputs": [],
   "source": [
    "if __name__ == '__main__':\n",
    "    app.run(debug=True)"
   ]
  },
  {
   "cell_type": "markdown",
   "id": "55f3b22e",
   "metadata": {},
   "source": [
    "## Step 5: Detect Jupyter Environment\n",
    "This code checks if the notebook is running in Jupyter or Google Colab."
   ]
  },
  {
   "cell_type": "code",
   "execution_count": null,
   "id": "d3fa3704",
   "metadata": {},
   "outputs": [],
   "source": [
    "def is_notebook():\n",
    "    try:\n",
    "        shell = get_ipython().__class__.__name__\n",
    "        if shell == 'ZMQInteractiveShell':\n",
    "            print('Running in Jupyter Notebook or Jupyter Lab')\n",
    "        elif shell == 'Shell':\n",
    "            print('Running in Google Colab')\n",
    "        else:\n",
    "            print('Running in another environment')\n",
    "    except NameError:\n",
    "        print('Not running in a notebook environment')\n",
    "\n",
    "is_notebook()"
   ]
  }
 ],
 "metadata": {},
 "nbformat": 4,
 "nbformat_minor": 5
}
